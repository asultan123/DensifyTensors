{
 "cells": [
  {
   "cell_type": "code",
   "execution_count": 1,
   "source": [
    "import gurobipy as gp\n",
    "from gurobipy import GRB\n",
    "import numpy as np \n",
    "import torch\n",
    "import scipy\n",
    "import scipy.sparse\n",
    "from math import prod"
   ],
   "outputs": [],
   "metadata": {}
  },
  {
   "cell_type": "code",
   "execution_count": 2,
   "source": [
    "def generate_01_sparse_matrix(size, density):\n",
    "    f, c, k = size\n",
    "    x = scipy.sparse.rand(f, c*k, density, format='csr')\n",
    "    x.data[:] = 1\n",
    "    x = np.array(x.todense()).reshape((f, c, k))\n",
    "    return x"
   ],
   "outputs": [],
   "metadata": {}
  },
  {
   "cell_type": "code",
   "execution_count": 3,
   "source": [
    "def get_ones_count(matrix):\n",
    "    return prod(matrix[np.where(matrix == 1)].shape)"
   ],
   "outputs": [],
   "metadata": {}
  },
  {
   "cell_type": "code",
   "execution_count": 4,
   "source": [
    "def calc_density(matrix):\n",
    "    ones = get_ones_count(matrix)\n",
    "    return ones/prod(matrix.shape)"
   ],
   "outputs": [],
   "metadata": {}
  },
  {
   "cell_type": "code",
   "execution_count": 5,
   "source": [
    "def density_of_remaining_weights(original_matrix, selection_bitmap):\n",
    "    not_selected = 1-selection_bitmap\n",
    "    total_unselected = np.sum(not_selected)\n",
    "    ignored_weights = np.multiply(not_selected, original_matrix)\n",
    "    unselected_ones = get_ones_count(ignored_weights)\n",
    "    return  unselected_ones/ total_unselected "
   ],
   "outputs": [],
   "metadata": {}
  },
  {
   "cell_type": "code",
   "execution_count": 9,
   "source": [
    "weight_tensor = generate_01_sparse_matrix(size = (16, 16, 1), density = 0.05)\n",
    "weight_tensor[np.where(weight_tensor != 0)]"
   ],
   "outputs": [
    {
     "output_type": "execute_result",
     "data": {
      "text/plain": [
       "array([1., 1., 1., 1., 1., 1., 1., 1., 1., 1., 1., 1., 1., 1., 1., 1., 1.,\n",
       "       1., 1., 1., 1., 1., 1., 1., 1., 1., 1., 1., 1., 1., 1., 1., 1., 1.,\n",
       "       1., 1., 1., 1., 1., 1., 1., 1., 1., 1., 1., 1., 1., 1., 1., 1., 1.,\n",
       "       1., 1., 1., 1., 1., 1., 1., 1., 1., 1., 1., 1., 1., 1., 1., 1., 1.,\n",
       "       1., 1., 1., 1., 1., 1., 1., 1., 1., 1., 1., 1., 1., 1., 1., 1., 1.,\n",
       "       1., 1., 1., 1., 1., 1., 1., 1., 1., 1., 1., 1., 1., 1., 1., 1., 1.,\n",
       "       1., 1., 1., 1., 1., 1., 1., 1., 1., 1., 1., 1., 1., 1., 1., 1., 1.,\n",
       "       1., 1., 1., 1., 1., 1., 1., 1., 1., 1., 1., 1., 1., 1., 1., 1., 1.,\n",
       "       1., 1., 1., 1., 1., 1., 1., 1., 1., 1., 1., 1., 1., 1., 1., 1., 1.,\n",
       "       1., 1., 1., 1., 1., 1., 1., 1., 1., 1., 1., 1., 1., 1., 1., 1., 1.,\n",
       "       1., 1., 1., 1., 1., 1., 1., 1., 1., 1., 1., 1., 1., 1., 1., 1., 1.,\n",
       "       1., 1., 1., 1., 1., 1., 1., 1., 1., 1., 1., 1., 1., 1., 1., 1., 1.,\n",
       "       1.])"
      ]
     },
     "metadata": {},
     "execution_count": 9
    }
   ],
   "metadata": {}
  },
  {
   "cell_type": "code",
   "execution_count": 12,
   "source": [
    "def find_densest_subtensor_in_weight_tensor(tensor, filter_bounds, channel_bounds, timeout = 10):\n",
    "    tensor_cpy = np.copy(tensor)\n",
    "    tensor_cpy[np.where(tensor_cpy == 0)] = -1\n",
    "    m = gp.Model('densify')\n",
    "    m.setParam(GRB.Param.TimeLimit, timeout)\n",
    "    f_size, c_size, k_size = tensor.shape\n",
    "    F = m.addVars(f_size, vtype=GRB.BINARY, name='F')\n",
    "    C = m.addVars(c_size, vtype=GRB.BINARY, name='C')\n",
    "    Z = m.addVars(f_size, c_size, vtype=GRB.BINARY, name='Z')\n",
    "    min_filters, max_filters = filter_bounds\n",
    "    m.addConstr(gp.quicksum([F[i] for i in range(len(F))]) <= max_filters )\n",
    "    m.addConstr(min_filters <= gp.quicksum([F[i] for i in range(len(F))]))\n",
    "    min_channels, max_channels = channel_bounds\n",
    "    m.addConstr(gp.quicksum([C[j] for j in range(len(C))]) <= max_channels )\n",
    "    m.addConstr(min_channels <= gp.quicksum([C[j] for j in range(len(C))]))\n",
    "    m.addConstrs((Z[i, j] == gp.and_(F[i], C[j]) for i in range(len(F)) for j in range(len(C))), name='and_constraints')\n",
    "    m.setObjective(gp.quicksum(Z[i, j]*tensor_cpy[i, j, k] for i in range(len(F)) for j in range(len(C)) for k in range(k_size)), GRB.MAXIMIZE)\n",
    "    m.optimize()\n",
    "    dense_filter_indicies = [i for i, f in F.items() if f.X > 0]\n",
    "    dense_channel_indicies = [j for j, c in C.items() if c.X > 0]\n",
    "    selection_bitmap = np.zeros(tensor.shape)\n",
    "    for f in dense_filter_indicies:\n",
    "        for c in dense_channel_indicies:\n",
    "            selection_bitmap[f, c] = 1\n",
    "    dense_tensor = tensor[dense_filter_indicies, :, :][:, dense_channel_indicies, :]\n",
    "    return dense_tensor, selection_bitmap, dense_filter_indicies, dense_channel_indicies\n",
    "dense_tensor, selection_bitmap, dense_filter_indicies, dense_channel_indicies = find_densest_subtensor_in_weight_tensor(weight_tensor, (8, 16), (8, 16), timeout = 240)\n",
    "print(f'density of weight tensor: {calc_density(weight_tensor)}')\n",
    "print(f'density of dense tensor: {calc_density(dense_tensor)}')\n",
    "print(f'density of sparse tensor: {density_of_remaining_weights(weight_tensor, selection_bitmap)}')"
   ],
   "outputs": [
    {
     "output_type": "stream",
     "name": "stdout",
     "text": [
      "Set parameter TimeLimit to value 240\n",
      "Gurobi Optimizer version 9.5.0 build v9.5.0rc5 (linux64)\n",
      "Thread count: 8 physical cores, 8 logical processors, using up to 8 threads\n",
      "Optimize a model with 4 rows, 4224 columns and 256 nonzeros\n",
      "Model fingerprint: 0x3f1ee2d6\n",
      "Model has 4096 general constraints\n",
      "Variable types: 0 continuous, 4224 integer (4224 binary)\n",
      "Coefficient statistics:\n",
      "  Matrix range     [1e+00, 1e+00]\n",
      "  Objective range  [1e+00, 1e+00]\n",
      "  Bounds range     [1e+00, 1e+00]\n",
      "  RHS range        [8e+00, 2e+01]\n",
      "Presolve added 4301 rows and 0 columns\n",
      "Presolve time: 0.01s\n",
      "Presolved: 4305 rows, 4224 columns, 12749 nonzeros\n",
      "Variable types: 0 continuous, 4224 integer (4224 binary)\n",
      "Found heuristic solution: objective -54.0000000\n",
      "\n",
      "Root relaxation: objective 5.702564e+01, 796 iterations, 0.03 seconds (0.07 work units)\n",
      "\n",
      "    Nodes    |    Current Node    |     Objective Bounds      |     Work\n",
      " Expl Unexpl |  Obj  Depth IntInf | Incumbent    BestBd   Gap | It/Node Time\n",
      "\n",
      "     0     0   57.02564    0  217  -54.00000   57.02564   206%     -    0s\n",
      "H    0     0                     -32.0000000   57.02564   278%     -    0s\n",
      "     0     0   41.49716    0  295  -32.00000   41.49716   230%     -    0s\n",
      "     0     0   41.05991    0  293  -32.00000   41.05991   228%     -    0s\n",
      "     0     0   40.92555    0  289  -32.00000   40.92555   228%     -    0s\n",
      "     0     0   37.43018    0  278  -32.00000   37.43018   217%     -    0s\n",
      "     0     0   36.79212    0  273  -32.00000   36.79212   215%     -    0s\n",
      "     0     0   36.58216    0  273  -32.00000   36.58216   214%     -    0s\n",
      "     0     0   36.57534    0  279  -32.00000   36.57534   214%     -    0s\n",
      "     0     0   35.56865    0  270  -32.00000   35.56865   211%     -    0s\n",
      "     0     0   35.03695    0  283  -32.00000   35.03695   209%     -    0s\n",
      "     0     0   34.91697    0  284  -32.00000   34.91697   209%     -    0s\n",
      "     0     0   34.87768    0  288  -32.00000   34.87768   209%     -    0s\n",
      "     0     0   34.83601    0  287  -32.00000   34.83601   209%     -    0s\n",
      "     0     0   34.82863    0  287  -32.00000   34.82863   209%     -    0s\n",
      "     0     0   34.63021    0  287  -32.00000   34.63021   208%     -    0s\n",
      "     0     0   34.59951    0  277  -32.00000   34.59951   208%     -    0s\n",
      "     0     0   34.59216    0  286  -32.00000   34.59216   208%     -    0s\n",
      "     0     0   34.25334    0  280  -32.00000   34.25334   207%     -    0s\n",
      "     0     0   34.05096    0  288  -32.00000   34.05096   206%     -    0s\n",
      "     0     0   34.02973    0  288  -32.00000   34.02973   206%     -    0s\n",
      "     0     0   34.02942    0  289  -32.00000   34.02942   206%     -    0s\n",
      "     0     0   34.02927    0  290  -32.00000   34.02927   206%     -    0s\n",
      "     0     0   34.02922    0  290  -32.00000   34.02922   206%     -    0s\n",
      "     0     0   34.01815    0  288  -32.00000   34.01815   206%     -    0s\n",
      "     0     0   34.01815    0  287  -32.00000   34.01815   206%     -    0s\n",
      "     0     2   34.01815    0  287  -32.00000   34.01815   206%     -    0s\n",
      "H   53    59                     -30.0000000   32.09412   207%   132    1s\n",
      "*  541   517              25     -28.0000000   32.09412   215%  83.9    2s\n",
      "H  688   699                     -26.0000000   32.09412   223%  80.7    2s\n",
      "  1506  1359  -12.75000   89  295  -26.00000   32.09412   223%  88.5    5s\n",
      "  1529  1379   30.09630   11  315  -26.00000   30.09630   216%  90.2   10s\n"
     ]
    }
   ],
   "metadata": {}
  },
  {
   "cell_type": "code",
   "execution_count": 11,
   "source": [
    "dense_tensor, dense_filter_indicies, dense_channel_indicies"
   ],
   "outputs": [
    {
     "output_type": "execute_result",
     "data": {
      "text/plain": [
       "(array([[[1.],\n",
       "         [0.],\n",
       "         [1.],\n",
       "         [1.],\n",
       "         [1.],\n",
       "         [1.],\n",
       "         [0.],\n",
       "         [0.]],\n",
       " \n",
       "        [[1.],\n",
       "         [0.],\n",
       "         [0.],\n",
       "         [1.],\n",
       "         [1.],\n",
       "         [0.],\n",
       "         [1.],\n",
       "         [0.]],\n",
       " \n",
       "        [[0.],\n",
       "         [0.],\n",
       "         [0.],\n",
       "         [0.],\n",
       "         [0.],\n",
       "         [1.],\n",
       "         [0.],\n",
       "         [1.]],\n",
       " \n",
       "        [[0.],\n",
       "         [1.],\n",
       "         [0.],\n",
       "         [1.],\n",
       "         [0.],\n",
       "         [0.],\n",
       "         [0.],\n",
       "         [1.]],\n",
       " \n",
       "        [[0.],\n",
       "         [0.],\n",
       "         [1.],\n",
       "         [1.],\n",
       "         [0.],\n",
       "         [0.],\n",
       "         [0.],\n",
       "         [0.]],\n",
       " \n",
       "        [[0.],\n",
       "         [1.],\n",
       "         [0.],\n",
       "         [0.],\n",
       "         [0.],\n",
       "         [1.],\n",
       "         [1.],\n",
       "         [0.]],\n",
       " \n",
       "        [[1.],\n",
       "         [0.],\n",
       "         [0.],\n",
       "         [0.],\n",
       "         [0.],\n",
       "         [1.],\n",
       "         [0.],\n",
       "         [1.]],\n",
       " \n",
       "        [[0.],\n",
       "         [1.],\n",
       "         [1.],\n",
       "         [1.],\n",
       "         [0.],\n",
       "         [0.],\n",
       "         [0.],\n",
       "         [0.]]]),\n",
       " [4, 14, 20, 21, 25, 33, 46, 53],\n",
       " [5, 15, 17, 25, 30, 53, 57, 63])"
      ]
     },
     "metadata": {},
     "execution_count": 11
    }
   ],
   "metadata": {}
  },
  {
   "cell_type": "code",
   "execution_count": null,
   "source": [],
   "outputs": [],
   "metadata": {}
  }
 ],
 "metadata": {
  "orig_nbformat": 4,
  "language_info": {
   "name": "python",
   "version": "3.9.5",
   "mimetype": "text/x-python",
   "codemirror_mode": {
    "name": "ipython",
    "version": 3
   },
   "pygments_lexer": "ipython3",
   "nbconvert_exporter": "python",
   "file_extension": ".py"
  },
  "kernelspec": {
   "name": "python3",
   "display_name": "Python 3.9.5 64-bit ('.venv': poetry)"
  },
  "interpreter": {
   "hash": "b96411f1fa39847304dd003ed0b7c11acafefc12e881d5601e17449b30f22463"
  }
 },
 "nbformat": 4,
 "nbformat_minor": 2
}
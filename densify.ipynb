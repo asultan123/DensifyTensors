{
 "cells": [
  {
   "cell_type": "code",
   "execution_count": 2,
   "source": [
    "import gurobipy as gp\n",
    "from gurobipy import GRB\n",
    "import numpy as np \n",
    "import torch\n",
    "import scipy\n",
    "import scipy.sparse\n",
    "from math import prod"
   ],
   "outputs": [],
   "metadata": {}
  },
  {
   "cell_type": "code",
   "execution_count": 3,
   "source": [
    "def generate_01_sparse_matrix(size, density):\n",
    "    f, c, k = size\n",
    "    x = scipy.sparse.rand(f, c*k, density, format='csr')\n",
    "    x.data[:] = 1\n",
    "    x = np.array(x.todense()).reshape((f, c, k))\n",
    "    return x"
   ],
   "outputs": [],
   "metadata": {}
  },
  {
   "cell_type": "code",
   "execution_count": 4,
   "source": [
    "def get_ones_count(matrix):\n",
    "    return prod(matrix[np.where(matrix == 1)].shape)"
   ],
   "outputs": [],
   "metadata": {}
  },
  {
   "cell_type": "code",
   "execution_count": 5,
   "source": [
    "def calc_density(matrix):\n",
    "    ones = get_ones_count(matrix)\n",
    "    return ones/prod(matrix.shape)"
   ],
   "outputs": [],
   "metadata": {}
  },
  {
   "cell_type": "code",
   "execution_count": 6,
   "source": [
    "def density_of_remaining_weights(original_matrix, selection_bitmap):\n",
    "    not_selected = 1-selection_bitmap\n",
    "    total_unselected = np.sum(not_selected)\n",
    "    ignored_weights = np.multiply(not_selected, original_matrix)\n",
    "    unselected_ones = get_ones_count(ignored_weights)\n",
    "    return  unselected_ones/ total_unselected "
   ],
   "outputs": [],
   "metadata": {}
  },
  {
   "cell_type": "code",
   "execution_count": 41,
   "source": [
    "weight_tensor = generate_01_sparse_matrix(size = (64, 64, 9), density = 0.1)\n",
    "weight_tensor[np.where(weight_tensor != 0)]"
   ],
   "outputs": [
    {
     "output_type": "execute_result",
     "data": {
      "text/plain": [
       "array([1., 1., 1., ..., 1., 1., 1.])"
      ]
     },
     "metadata": {},
     "execution_count": 41
    }
   ],
   "metadata": {}
  },
  {
   "cell_type": "code",
   "execution_count": 44,
   "source": [
    "def find_densest_subtensor_in_weight_tensor(tensor, filter_bounds, channel_bounds, initialize = False, timeout = None):\n",
    "    f_size, c_size, k_size = tensor.shape\n",
    "    min_filters, max_filters = filter_bounds\n",
    "    min_channels, max_channels = channel_bounds\n",
    "    if min_filters > f_size:\n",
    "        raise ValueError(\"filter lowerbound must be lower than max filters\")\n",
    "    if min_channels > c_size:\n",
    "        raise ValueError(\"channel lowerbound must be lower than max filters\")\n",
    "    \n",
    "    tensor_cpy = np.copy(tensor)\n",
    "    tensor_cpy[np.where(tensor_cpy == 0)] = -1\n",
    "    m = gp.Model('densify')\n",
    "    if timeout is not None:\n",
    "        m.setParam(GRB.Param.TimeLimit, timeout)\n",
    "    F = m.addVars(f_size, vtype=GRB.BINARY, name='F')\n",
    "    C = m.addVars(c_size, vtype=GRB.BINARY, name='C')\n",
    "    \n",
    "    if initialize:\n",
    "        est_filter_density = [(i, s) for s, i in zip(np.sum(tensor, axis=(2, 1)), range(tensor.shape[0]))]\n",
    "        est_filter_density.sort(key = lambda x: x[1], reverse = True)\n",
    "        est_channel_density = [(i, s) for s, i in zip(np.sum(tensor, axis=(2, 0)), range(tensor.shape[1]))]\n",
    "        est_channel_density.sort(key = lambda x: x[1], reverse = True)\n",
    "        initial_filters = [i for i, _ in est_filter_density[:min_filters+1]]\n",
    "        initial_channels = [j for j, _ in est_channel_density[:min_channels+1]]\n",
    "\n",
    "        for i in initial_filters:\n",
    "            F[i].start = 1\n",
    "        for j in initial_channels:\n",
    "            C[j].start = 1\n",
    "        \n",
    "    Z = m.addVars(f_size, c_size, vtype=GRB.BINARY, name='Z')\n",
    "    m.addConstr(gp.quicksum([F[i] for i in range(len(F))]) <= max_filters )\n",
    "    m.addConstr(min_filters <= gp.quicksum([F[i] for i in range(len(F))]))\n",
    "    m.addConstr(gp.quicksum([C[j] for j in range(len(C))]) <= max_channels )\n",
    "    m.addConstr(min_channels <= gp.quicksum([C[j] for j in range(len(C))]))\n",
    "    m.addConstrs((Z[i, j] == gp.and_(F[i], C[j]) for i in range(len(F)) for j in range(len(C))), name='and_constraints')\n",
    "    m.setObjective(gp.quicksum(Z[i, j]*tensor_cpy[i, j, k] for i in range(len(F)) for j in range(len(C)) for k in range(k_size)), GRB.MAXIMIZE)\n",
    "    m.optimize()\n",
    "    dense_filter_indicies = [i for i, f in F.items() if f.X > 0]\n",
    "    dense_channel_indicies = [j for j, c in C.items() if c.X > 0]\n",
    "    selection_bitmap = np.zeros(tensor.shape)\n",
    "    for f in dense_filter_indicies:\n",
    "        for c in dense_channel_indicies:\n",
    "            selection_bitmap[f, c] = 1\n",
    "    dense_tensor = tensor[dense_filter_indicies, :, :][:, dense_channel_indicies, :]\n",
    "    return dense_tensor, selection_bitmap, dense_filter_indicies, dense_channel_indicies\n",
    "dense_tensor, selection_bitmap, dense_filter_indicies, dense_channel_indicies = find_densest_subtensor_in_weight_tensor(weight_tensor, (4, 32), (4, 32))\n",
    "print(f'density of weight tensor: {calc_density(weight_tensor)}')\n",
    "print(f'density of dense tensor: {calc_density(dense_tensor)}')\n",
    "print(f'density of sparse tensor: {density_of_remaining_weights(weight_tensor, selection_bitmap)}')\n",
    "print(f'selected filters: {dense_filter_indicies}')\n",
    "print(f'selected channels: {dense_channel_indicies}')"
   ],
   "outputs": [
    {
     "output_type": "stream",
     "name": "stdout",
     "text": [
      "Gurobi Optimizer version 9.5.0 build v9.5.0rc5 (linux64)\n",
      "Thread count: 8 physical cores, 8 logical processors, using up to 8 threads\n",
      "Optimize a model with 4 rows, 4224 columns and 256 nonzeros\n",
      "Model fingerprint: 0x69bb3533\n",
      "Model has 4096 general constraints\n",
      "Variable types: 0 continuous, 4224 integer (4224 binary)\n",
      "Coefficient statistics:\n",
      "  Matrix range     [1e+00, 1e+00]\n",
      "  Objective range  [1e+00, 9e+00]\n",
      "  Bounds range     [1e+00, 1e+00]\n",
      "  RHS range        [4e+00, 3e+01]\n",
      "\n",
      "Warning: Completing partial solution with 4214 unfixed non-continuous variables out of 4224\n",
      "User MIP start produced solution with objective -151 (0.01s)\n",
      "Loaded user MIP start with objective -151\n",
      "\n",
      "Presolve added 4099 rows and 0 columns\n",
      "Presolve time: 0.01s\n",
      "Presolved: 4103 rows, 4224 columns, 12547 nonzeros\n",
      "Variable types: 0 continuous, 4224 integer (4224 binary)\n",
      "Found heuristic solution: objective -94.0000000\n",
      "\n",
      "Root relaxation: objective 1.500000e+00, 136 iterations, 0.00 seconds (0.01 work units)\n",
      "\n",
      "    Nodes    |    Current Node    |     Objective Bounds      |     Work\n",
      " Expl Unexpl |  Obj  Depth IntInf | Incumbent    BestBd   Gap | It/Node Time\n",
      "\n",
      "     0     0    1.50000    0   19  -94.00000    1.50000   102%     -    0s\n",
      "H    0     0                     -60.0000000    1.50000   102%     -    0s\n",
      "     0     0   -0.00000    0   17  -60.00000   -0.00000   100%     -    0s\n",
      "     0     0   -0.00000    0   19  -60.00000   -0.00000   100%     -    0s\n",
      "     0     0   -0.00000    0   19  -60.00000   -0.00000   100%     -    0s\n",
      "     0     0   -0.00000    0   17  -60.00000   -0.00000   100%     -    0s\n",
      "     0     0   -0.00000    0   17  -60.00000   -0.00000   100%     -    0s\n",
      "     0     2   -0.00000    0   17  -60.00000   -0.00000   100%     -    0s\n",
      "H 1518  1045                     -56.0000000  -40.44444  27.8%  21.0    2s\n",
      "  1532  1055  -45.53968   46  135  -56.00000  -45.53968  18.7%  20.8    5s\n",
      "  3425  1232  -48.58889   81   35  -56.00000  -48.58889  13.2%  38.0   10s\n"
     ]
    }
   ],
   "metadata": {}
  },
  {
   "cell_type": "code",
   "execution_count": 26,
   "source": [
    "754"
   ],
   "outputs": [
    {
     "output_type": "execute_result",
     "data": {
      "text/plain": [
       "(array([[[0., 1., 0., ..., 0., 0., 0.],\n",
       "         [1., 1., 0., ..., 1., 1., 0.],\n",
       "         [0., 1., 0., ..., 0., 1., 0.],\n",
       "         ...,\n",
       "         [1., 0., 0., ..., 0., 0., 0.],\n",
       "         [1., 0., 1., ..., 0., 1., 1.],\n",
       "         [1., 1., 1., ..., 0., 1., 1.]],\n",
       " \n",
       "        [[1., 0., 0., ..., 0., 0., 0.],\n",
       "         [1., 1., 1., ..., 0., 0., 1.],\n",
       "         [0., 1., 1., ..., 1., 0., 0.],\n",
       "         ...,\n",
       "         [1., 0., 1., ..., 0., 0., 1.],\n",
       "         [1., 1., 1., ..., 1., 1., 0.],\n",
       "         [1., 0., 1., ..., 1., 1., 0.]],\n",
       " \n",
       "        [[0., 1., 0., ..., 1., 1., 1.],\n",
       "         [0., 0., 1., ..., 0., 0., 0.],\n",
       "         [0., 1., 0., ..., 1., 1., 1.],\n",
       "         ...,\n",
       "         [0., 1., 1., ..., 1., 0., 0.],\n",
       "         [0., 0., 0., ..., 1., 0., 0.],\n",
       "         [1., 0., 0., ..., 1., 0., 1.]],\n",
       " \n",
       "        ...,\n",
       " \n",
       "        [[1., 0., 1., ..., 1., 1., 0.],\n",
       "         [1., 1., 0., ..., 1., 1., 0.],\n",
       "         [1., 1., 1., ..., 0., 0., 1.],\n",
       "         ...,\n",
       "         [1., 1., 1., ..., 0., 0., 0.],\n",
       "         [0., 0., 0., ..., 1., 1., 1.],\n",
       "         [0., 0., 0., ..., 0., 0., 1.]],\n",
       " \n",
       "        [[0., 1., 1., ..., 0., 1., 1.],\n",
       "         [0., 0., 1., ..., 1., 1., 0.],\n",
       "         [0., 1., 1., ..., 0., 1., 1.],\n",
       "         ...,\n",
       "         [1., 0., 0., ..., 0., 1., 1.],\n",
       "         [1., 0., 1., ..., 1., 0., 1.],\n",
       "         [1., 0., 0., ..., 0., 1., 0.]],\n",
       " \n",
       "        [[1., 1., 1., ..., 1., 0., 0.],\n",
       "         [0., 0., 0., ..., 0., 1., 0.],\n",
       "         [0., 1., 0., ..., 1., 0., 1.],\n",
       "         ...,\n",
       "         [1., 0., 0., ..., 1., 0., 1.],\n",
       "         [1., 1., 1., ..., 1., 0., 0.],\n",
       "         [1., 0., 1., ..., 1., 0., 0.]]]),\n",
       " [2,\n",
       "  6,\n",
       "  7,\n",
       "  8,\n",
       "  9,\n",
       "  11,\n",
       "  12,\n",
       "  13,\n",
       "  15,\n",
       "  16,\n",
       "  17,\n",
       "  18,\n",
       "  20,\n",
       "  22,\n",
       "  23,\n",
       "  25,\n",
       "  27,\n",
       "  28,\n",
       "  29,\n",
       "  31,\n",
       "  33,\n",
       "  35,\n",
       "  39,\n",
       "  43,\n",
       "  47,\n",
       "  48,\n",
       "  57,\n",
       "  58,\n",
       "  60,\n",
       "  62],\n",
       " [3,\n",
       "  4,\n",
       "  5,\n",
       "  7,\n",
       "  8,\n",
       "  10,\n",
       "  11,\n",
       "  12,\n",
       "  13,\n",
       "  20,\n",
       "  24,\n",
       "  26,\n",
       "  29,\n",
       "  30,\n",
       "  31,\n",
       "  32,\n",
       "  33,\n",
       "  34,\n",
       "  36,\n",
       "  37,\n",
       "  41,\n",
       "  44,\n",
       "  48,\n",
       "  49,\n",
       "  52,\n",
       "  53,\n",
       "  54,\n",
       "  58,\n",
       "  60,\n",
       "  61,\n",
       "  62,\n",
       "  63])"
      ]
     },
     "metadata": {},
     "execution_count": 26
    }
   ],
   "metadata": {}
  },
  {
   "cell_type": "code",
   "execution_count": 10,
   "source": [
    "est_filter_density = [(i, s) for s, i in zip(np.sum(weight_tensor, axis=(2, 1)), range(weight_tensor.shape[0]))]\n",
    "est_channel_density = [(i, s) for s, i in zip(np.sum(weight_tensor, axis=(2, 0)), range(weight_tensor.shape[1]))]"
   ],
   "outputs": [],
   "metadata": {}
  },
  {
   "cell_type": "code",
   "execution_count": 11,
   "source": [
    "est_filter_density.sort(key= lambda x: x[1], reverse=True)"
   ],
   "outputs": [],
   "metadata": {}
  },
  {
   "cell_type": "code",
   "execution_count": 12,
   "source": [
    "est_filter_density"
   ],
   "outputs": [
    {
     "output_type": "execute_result",
     "data": {
      "text/plain": [
       "[(23, 316.0),\n",
       " (35, 315.0),\n",
       " (12, 312.0),\n",
       " (47, 308.0),\n",
       " (20, 307.0),\n",
       " (58, 307.0),\n",
       " (62, 307.0),\n",
       " (43, 306.0),\n",
       " (18, 302.0),\n",
       " (16, 301.0),\n",
       " (28, 301.0),\n",
       " (48, 301.0),\n",
       " (6, 300.0),\n",
       " (9, 296.0),\n",
       " (15, 296.0),\n",
       " (39, 296.0),\n",
       " (60, 296.0),\n",
       " (2, 295.0),\n",
       " (27, 295.0),\n",
       " (4, 294.0),\n",
       " (17, 294.0),\n",
       " (49, 294.0),\n",
       " (34, 292.0),\n",
       " (46, 292.0),\n",
       " (14, 291.0),\n",
       " (22, 291.0),\n",
       " (57, 291.0),\n",
       " (63, 291.0),\n",
       " (7, 290.0),\n",
       " (8, 290.0),\n",
       " (11, 290.0),\n",
       " (30, 289.0),\n",
       " (31, 289.0),\n",
       " (45, 289.0),\n",
       " (13, 288.0),\n",
       " (25, 286.0),\n",
       " (29, 286.0),\n",
       " (38, 286.0),\n",
       " (37, 285.0),\n",
       " (36, 283.0),\n",
       " (42, 282.0),\n",
       " (51, 282.0),\n",
       " (3, 281.0),\n",
       " (32, 281.0),\n",
       " (40, 281.0),\n",
       " (50, 281.0),\n",
       " (1, 280.0),\n",
       " (21, 280.0),\n",
       " (33, 280.0),\n",
       " (26, 277.0),\n",
       " (59, 276.0),\n",
       " (10, 275.0),\n",
       " (54, 275.0),\n",
       " (56, 275.0),\n",
       " (55, 274.0),\n",
       " (52, 273.0),\n",
       " (53, 272.0),\n",
       " (19, 271.0),\n",
       " (24, 271.0),\n",
       " (41, 270.0),\n",
       " (0, 268.0),\n",
       " (44, 268.0),\n",
       " (5, 261.0),\n",
       " (61, 260.0)]"
      ]
     },
     "metadata": {},
     "execution_count": 12
    }
   ],
   "metadata": {}
  },
  {
   "cell_type": "code",
   "execution_count": null,
   "source": [],
   "outputs": [],
   "metadata": {}
  }
 ],
 "metadata": {
  "orig_nbformat": 4,
  "language_info": {
   "name": "python",
   "version": "3.9.5",
   "mimetype": "text/x-python",
   "codemirror_mode": {
    "name": "ipython",
    "version": 3
   },
   "pygments_lexer": "ipython3",
   "nbconvert_exporter": "python",
   "file_extension": ".py"
  },
  "kernelspec": {
   "name": "python3",
   "display_name": "Python 3.9.5 64-bit ('.venv': poetry)"
  },
  "interpreter": {
   "hash": "b96411f1fa39847304dd003ed0b7c11acafefc12e881d5601e17449b30f22463"
  }
 },
 "nbformat": 4,
 "nbformat_minor": 2
}
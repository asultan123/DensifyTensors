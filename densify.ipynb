{
 "cells": [
  {
   "cell_type": "code",
   "execution_count": 2,
   "source": [
    "import gurobipy as gp\n",
    "from gurobipy import GRB\n",
    "import numpy as np \n",
    "import torch\n",
    "import scipy\n",
    "import scipy.sparse\n",
    "from math import prod"
   ],
   "outputs": [],
   "metadata": {}
  },
  {
   "cell_type": "code",
   "execution_count": 3,
   "source": [
    "def generate_01_sparse_matrix(size, density):\n",
    "    f, c, k = size\n",
    "    x = scipy.sparse.rand(f, c*k, density, format='csr')\n",
    "    x.data[:] = 1\n",
    "    x = np.array(x.todense()).reshape((f, c, k))\n",
    "    return x"
   ],
   "outputs": [],
   "metadata": {}
  },
  {
   "cell_type": "code",
   "execution_count": 4,
   "source": [
    "def get_ones_count(matrix):\n",
    "    return prod(matrix[np.where(matrix == 1)].shape)"
   ],
   "outputs": [],
   "metadata": {}
  },
  {
   "cell_type": "code",
   "execution_count": 5,
   "source": [
    "def calc_density(matrix):\n",
    "    ones = get_ones_count(matrix)\n",
    "    return ones/prod(matrix.shape)"
   ],
   "outputs": [],
   "metadata": {}
  },
  {
   "cell_type": "code",
   "execution_count": 6,
   "source": [
    "def density_of_remaining_weights(original_matrix, selection_bitmap):\n",
    "    not_selected = 1-selection_bitmap\n",
    "    total_unselected = np.sum(not_selected)\n",
    "    ignored_weights = np.multiply(not_selected, original_matrix)\n",
    "    unselected_ones = get_ones_count(ignored_weights)\n",
    "    return  unselected_ones/ total_unselected "
   ],
   "outputs": [],
   "metadata": {}
  },
  {
   "cell_type": "code",
   "execution_count": 7,
   "source": [
    "weight_tensor = generate_01_sparse_matrix(size = (64, 64, 9), density = 0.5)\n",
    "weight_tensor[np.where(weight_tensor != 0)]"
   ],
   "outputs": [
    {
     "output_type": "execute_result",
     "data": {
      "text/plain": [
       "array([1., 1., 1., ..., 1., 1., 1.])"
      ]
     },
     "metadata": {},
     "execution_count": 7
    }
   ],
   "metadata": {}
  },
  {
   "cell_type": "code",
   "execution_count": 23,
   "source": [
    "def find_densest_subtensor_in_weight_tensor(tensor, filter_bounds, channel_bounds, initialize = False, timeout = 10):\n",
    "    f_size, c_size, k_size = tensor.shape\n",
    "    min_filters, max_filters = filter_bounds\n",
    "    min_channels, max_channels = channel_bounds\n",
    "    if min_filters > f_size:\n",
    "        raise ValueError(\"filter lowerbound must be lower than max filters\")\n",
    "    if min_channels > c_size:\n",
    "        raise ValueError(\"channel lowerbound must be lower than max filters\")\n",
    "    \n",
    "    tensor_cpy = np.copy(tensor)\n",
    "    tensor_cpy[np.where(tensor_cpy == 0)] = -1\n",
    "    m = gp.Model('densify')\n",
    "    m.setParam(GRB.Param.TimeLimit, timeout)\n",
    "    F = m.addVars(f_size, vtype=GRB.BINARY, name='F')\n",
    "    C = m.addVars(c_size, vtype=GRB.BINARY, name='C')\n",
    "    \n",
    "    if initialize:\n",
    "        est_filter_density = [(i, s) for s, i in zip(np.sum(tensor, axis=(2, 1)), range(tensor.shape[0]))]\n",
    "        est_filter_density.sort(key = lambda x: x[1], reverse = True)\n",
    "        est_channel_density = [(i, s) for s, i in zip(np.sum(tensor, axis=(2, 0)), range(tensor.shape[1]))]\n",
    "        est_channel_density.sort(key = lambda x: x[1], reverse = True)\n",
    "        initial_filters = [i for i, _ in est_filter_density[:min_filters+1]]\n",
    "        initial_channels = [j for j, _ in est_channel_density[:min_channels+1]]\n",
    "\n",
    "        for i in initial_filters:\n",
    "            F[i].start = 1\n",
    "        for j in initial_channels:\n",
    "            C[j].start = 1\n",
    "        \n",
    "    Z = m.addVars(f_size, c_size, vtype=GRB.BINARY, name='Z')\n",
    "    m.addConstr(gp.quicksum([F[i] for i in range(len(F))]) <= max_filters )\n",
    "    m.addConstr(min_filters <= gp.quicksum([F[i] for i in range(len(F))]))\n",
    "    m.addConstr(gp.quicksum([C[j] for j in range(len(C))]) <= max_channels )\n",
    "    m.addConstr(min_channels <= gp.quicksum([C[j] for j in range(len(C))]))\n",
    "    m.addConstrs((Z[i, j] == gp.and_(F[i], C[j]) for i in range(len(F)) for j in range(len(C))), name='and_constraints')\n",
    "    m.setObjective(gp.quicksum(Z[i, j]*tensor_cpy[i, j, k] for i in range(len(F)) for j in range(len(C)) for k in range(k_size)), GRB.MAXIMIZE)\n",
    "    m.optimize()\n",
    "    dense_filter_indicies = [i for i, f in F.items() if f.X > 0]\n",
    "    dense_channel_indicies = [j for j, c in C.items() if c.X > 0]\n",
    "    selection_bitmap = np.zeros(tensor.shape)\n",
    "    for f in dense_filter_indicies:\n",
    "        for c in dense_channel_indicies:\n",
    "            selection_bitmap[f, c] = 1\n",
    "    dense_tensor = tensor[dense_filter_indicies, :, :][:, dense_channel_indicies, :]\n",
    "    return dense_tensor, selection_bitmap, dense_filter_indicies, dense_channel_indicies\n",
    "dense_tensor, selection_bitmap, dense_filter_indicies, dense_channel_indicies = find_densest_subtensor_in_weight_tensor(weight_tensor, (16, 32), (16, 32), initialize = True, timeout = 10)\n",
    "print(f'density of weight tensor: {calc_density(weight_tensor)}')\n",
    "print(f'density of dense tensor: {calc_density(dense_tensor)}')\n",
    "print(f'density of sparse tensor: {density_of_remaining_weights(weight_tensor, selection_bitmap)}')"
   ],
   "outputs": [
    {
     "output_type": "stream",
     "name": "stdout",
     "text": [
      "Set parameter TimeLimit to value 10\n"
     ]
    },
    {
     "output_type": "error",
     "ename": "NameError",
     "evalue": "name 'initalize' is not defined",
     "traceback": [
      "\u001b[0;31m---------------------------------------------------------------------------\u001b[0m",
      "\u001b[0;31mNameError\u001b[0m                                 Traceback (most recent call last)",
      "Input \u001b[0;32mIn [23]\u001b[0m, in \u001b[0;36m<module>\u001b[0;34m\u001b[0m\n\u001b[1;32m     44\u001b[0m     dense_tensor \u001b[38;5;241m=\u001b[39m tensor[dense_filter_indicies, :, :][:, dense_channel_indicies, :]\n\u001b[1;32m     45\u001b[0m     \u001b[38;5;28;01mreturn\u001b[39;00m dense_tensor, selection_bitmap, dense_filter_indicies, dense_channel_indicies\n\u001b[0;32m---> 46\u001b[0m dense_tensor, selection_bitmap, dense_filter_indicies, dense_channel_indicies \u001b[38;5;241m=\u001b[39m \u001b[43mfind_densest_subtensor_in_weight_tensor\u001b[49m\u001b[43m(\u001b[49m\u001b[43mweight_tensor\u001b[49m\u001b[43m,\u001b[49m\u001b[43m \u001b[49m\u001b[43m(\u001b[49m\u001b[38;5;241;43m16\u001b[39;49m\u001b[43m,\u001b[49m\u001b[43m \u001b[49m\u001b[38;5;241;43m32\u001b[39;49m\u001b[43m)\u001b[49m\u001b[43m,\u001b[49m\u001b[43m \u001b[49m\u001b[43m(\u001b[49m\u001b[38;5;241;43m16\u001b[39;49m\u001b[43m,\u001b[49m\u001b[43m \u001b[49m\u001b[38;5;241;43m32\u001b[39;49m\u001b[43m)\u001b[49m\u001b[43m,\u001b[49m\u001b[43m \u001b[49m\u001b[43minitialize\u001b[49m\u001b[43m \u001b[49m\u001b[38;5;241;43m=\u001b[39;49m\u001b[43m \u001b[49m\u001b[38;5;28;43;01mTrue\u001b[39;49;00m\u001b[43m,\u001b[49m\u001b[43m \u001b[49m\u001b[43mtimeout\u001b[49m\u001b[43m \u001b[49m\u001b[38;5;241;43m=\u001b[39;49m\u001b[43m \u001b[49m\u001b[38;5;241;43m10\u001b[39;49m\u001b[43m)\u001b[49m\n\u001b[1;32m     47\u001b[0m \u001b[38;5;28mprint\u001b[39m(\u001b[38;5;124mf\u001b[39m\u001b[38;5;124m'\u001b[39m\u001b[38;5;124mdensity of weight tensor: \u001b[39m\u001b[38;5;132;01m{\u001b[39;00mcalc_density(weight_tensor)\u001b[38;5;132;01m}\u001b[39;00m\u001b[38;5;124m'\u001b[39m)\n\u001b[1;32m     48\u001b[0m \u001b[38;5;28mprint\u001b[39m(\u001b[38;5;124mf\u001b[39m\u001b[38;5;124m'\u001b[39m\u001b[38;5;124mdensity of dense tensor: \u001b[39m\u001b[38;5;132;01m{\u001b[39;00mcalc_density(dense_tensor)\u001b[38;5;132;01m}\u001b[39;00m\u001b[38;5;124m'\u001b[39m)\n",
      "Input \u001b[0;32mIn [23]\u001b[0m, in \u001b[0;36mfind_densest_subtensor_in_weight_tensor\u001b[0;34m(tensor, filter_bounds, channel_bounds, initialize, timeout)\u001b[0m\n\u001b[1;32m     14\u001b[0m F \u001b[38;5;241m=\u001b[39m m\u001b[38;5;241m.\u001b[39maddVars(f_size, vtype\u001b[38;5;241m=\u001b[39mGRB\u001b[38;5;241m.\u001b[39mBINARY, name\u001b[38;5;241m=\u001b[39m\u001b[38;5;124m'\u001b[39m\u001b[38;5;124mF\u001b[39m\u001b[38;5;124m'\u001b[39m)\n\u001b[1;32m     15\u001b[0m C \u001b[38;5;241m=\u001b[39m m\u001b[38;5;241m.\u001b[39maddVars(c_size, vtype\u001b[38;5;241m=\u001b[39mGRB\u001b[38;5;241m.\u001b[39mBINARY, name\u001b[38;5;241m=\u001b[39m\u001b[38;5;124m'\u001b[39m\u001b[38;5;124mC\u001b[39m\u001b[38;5;124m'\u001b[39m)\n\u001b[0;32m---> 17\u001b[0m \u001b[38;5;28;01mif\u001b[39;00m \u001b[43minitalize\u001b[49m:\n\u001b[1;32m     18\u001b[0m     est_filter_density \u001b[38;5;241m=\u001b[39m [(i, s) \u001b[38;5;28;01mfor\u001b[39;00m s, i \u001b[38;5;129;01min\u001b[39;00m \u001b[38;5;28mzip\u001b[39m(np\u001b[38;5;241m.\u001b[39msum(tensor, axis\u001b[38;5;241m=\u001b[39m(\u001b[38;5;241m2\u001b[39m, \u001b[38;5;241m1\u001b[39m)), \u001b[38;5;28mrange\u001b[39m(tensor\u001b[38;5;241m.\u001b[39mshape[\u001b[38;5;241m0\u001b[39m]))]\n\u001b[1;32m     19\u001b[0m     est_filter_density\u001b[38;5;241m.\u001b[39msort(key \u001b[38;5;241m=\u001b[39m \u001b[38;5;28;01mlambda\u001b[39;00m x: x[\u001b[38;5;241m1\u001b[39m], reverse \u001b[38;5;241m=\u001b[39m \u001b[38;5;28;01mTrue\u001b[39;00m)\n",
      "\u001b[0;31mNameError\u001b[0m: name 'initalize' is not defined"
     ]
    }
   ],
   "metadata": {}
  },
  {
   "cell_type": "code",
   "execution_count": 9,
   "source": [
    "dense_tensor, dense_filter_indicies, dense_channel_indicies"
   ],
   "outputs": [
    {
     "output_type": "execute_result",
     "data": {
      "text/plain": [
       "(array([[[0., 1., 0., ..., 0., 1., 1.],\n",
       "         [1., 1., 1., ..., 0., 1., 1.],\n",
       "         [1., 1., 1., ..., 1., 1., 0.],\n",
       "         ...,\n",
       "         [1., 0., 0., ..., 1., 0., 0.],\n",
       "         [1., 0., 1., ..., 0., 1., 0.],\n",
       "         [0., 1., 1., ..., 1., 0., 1.]],\n",
       " \n",
       "        [[1., 1., 0., ..., 1., 1., 1.],\n",
       "         [1., 1., 1., ..., 1., 1., 1.],\n",
       "         [0., 1., 0., ..., 1., 0., 0.],\n",
       "         ...,\n",
       "         [1., 0., 1., ..., 1., 0., 1.],\n",
       "         [1., 1., 1., ..., 0., 1., 1.],\n",
       "         [1., 1., 1., ..., 0., 0., 0.]],\n",
       " \n",
       "        [[1., 1., 1., ..., 0., 1., 0.],\n",
       "         [0., 1., 0., ..., 0., 0., 1.],\n",
       "         [0., 1., 1., ..., 1., 1., 0.],\n",
       "         ...,\n",
       "         [1., 0., 1., ..., 1., 1., 0.],\n",
       "         [1., 1., 1., ..., 0., 1., 1.],\n",
       "         [1., 1., 1., ..., 1., 0., 0.]],\n",
       " \n",
       "        ...,\n",
       " \n",
       "        [[1., 1., 0., ..., 1., 0., 0.],\n",
       "         [1., 1., 0., ..., 1., 0., 1.],\n",
       "         [1., 0., 0., ..., 0., 0., 1.],\n",
       "         ...,\n",
       "         [1., 0., 0., ..., 1., 0., 1.],\n",
       "         [1., 1., 1., ..., 0., 1., 1.],\n",
       "         [1., 1., 0., ..., 0., 0., 0.]],\n",
       " \n",
       "        [[1., 0., 1., ..., 1., 1., 0.],\n",
       "         [1., 1., 1., ..., 0., 1., 1.],\n",
       "         [1., 1., 1., ..., 1., 0., 0.],\n",
       "         ...,\n",
       "         [0., 1., 0., ..., 0., 1., 0.],\n",
       "         [0., 0., 1., ..., 1., 0., 1.],\n",
       "         [0., 0., 0., ..., 1., 1., 1.]],\n",
       " \n",
       "        [[1., 1., 1., ..., 1., 0., 0.],\n",
       "         [1., 1., 1., ..., 1., 1., 1.],\n",
       "         [0., 0., 0., ..., 1., 0., 0.],\n",
       "         ...,\n",
       "         [0., 0., 0., ..., 0., 1., 0.],\n",
       "         [0., 1., 0., ..., 1., 0., 1.],\n",
       "         [1., 1., 1., ..., 1., 0., 0.]]]),\n",
       " [9, 12, 14, 15, 16, 18, 20, 23, 25, 35, 38, 43, 47, 48, 58, 62],\n",
       " [3, 7, 10, 11, 13, 26, 31, 34, 36, 37, 39, 41, 49, 55, 58, 62])"
      ]
     },
     "metadata": {},
     "execution_count": 9
    }
   ],
   "metadata": {}
  },
  {
   "cell_type": "code",
   "execution_count": 10,
   "source": [
    "est_filter_density = [(i, s) for s, i in zip(np.sum(weight_tensor, axis=(2, 1)), range(weight_tensor.shape[0]))]\n",
    "est_channel_density = [(i, s) for s, i in zip(np.sum(weight_tensor, axis=(2, 0)), range(weight_tensor.shape[1]))]"
   ],
   "outputs": [],
   "metadata": {}
  },
  {
   "cell_type": "code",
   "execution_count": 11,
   "source": [
    "est_filter_density.sort(key= lambda x: x[1], reverse=True)"
   ],
   "outputs": [],
   "metadata": {}
  },
  {
   "cell_type": "code",
   "execution_count": 12,
   "source": [
    "est_filter_density"
   ],
   "outputs": [
    {
     "output_type": "execute_result",
     "data": {
      "text/plain": [
       "[(23, 316.0),\n",
       " (35, 315.0),\n",
       " (12, 312.0),\n",
       " (47, 308.0),\n",
       " (20, 307.0),\n",
       " (58, 307.0),\n",
       " (62, 307.0),\n",
       " (43, 306.0),\n",
       " (18, 302.0),\n",
       " (16, 301.0),\n",
       " (28, 301.0),\n",
       " (48, 301.0),\n",
       " (6, 300.0),\n",
       " (9, 296.0),\n",
       " (15, 296.0),\n",
       " (39, 296.0),\n",
       " (60, 296.0),\n",
       " (2, 295.0),\n",
       " (27, 295.0),\n",
       " (4, 294.0),\n",
       " (17, 294.0),\n",
       " (49, 294.0),\n",
       " (34, 292.0),\n",
       " (46, 292.0),\n",
       " (14, 291.0),\n",
       " (22, 291.0),\n",
       " (57, 291.0),\n",
       " (63, 291.0),\n",
       " (7, 290.0),\n",
       " (8, 290.0),\n",
       " (11, 290.0),\n",
       " (30, 289.0),\n",
       " (31, 289.0),\n",
       " (45, 289.0),\n",
       " (13, 288.0),\n",
       " (25, 286.0),\n",
       " (29, 286.0),\n",
       " (38, 286.0),\n",
       " (37, 285.0),\n",
       " (36, 283.0),\n",
       " (42, 282.0),\n",
       " (51, 282.0),\n",
       " (3, 281.0),\n",
       " (32, 281.0),\n",
       " (40, 281.0),\n",
       " (50, 281.0),\n",
       " (1, 280.0),\n",
       " (21, 280.0),\n",
       " (33, 280.0),\n",
       " (26, 277.0),\n",
       " (59, 276.0),\n",
       " (10, 275.0),\n",
       " (54, 275.0),\n",
       " (56, 275.0),\n",
       " (55, 274.0),\n",
       " (52, 273.0),\n",
       " (53, 272.0),\n",
       " (19, 271.0),\n",
       " (24, 271.0),\n",
       " (41, 270.0),\n",
       " (0, 268.0),\n",
       " (44, 268.0),\n",
       " (5, 261.0),\n",
       " (61, 260.0)]"
      ]
     },
     "metadata": {},
     "execution_count": 12
    }
   ],
   "metadata": {}
  },
  {
   "cell_type": "code",
   "execution_count": null,
   "source": [],
   "outputs": [],
   "metadata": {}
  }
 ],
 "metadata": {
  "orig_nbformat": 4,
  "language_info": {
   "name": "python",
   "version": "3.9.5",
   "mimetype": "text/x-python",
   "codemirror_mode": {
    "name": "ipython",
    "version": 3
   },
   "pygments_lexer": "ipython3",
   "nbconvert_exporter": "python",
   "file_extension": ".py"
  },
  "kernelspec": {
   "name": "python3",
   "display_name": "Python 3.9.5 64-bit ('.venv': poetry)"
  },
  "interpreter": {
   "hash": "b96411f1fa39847304dd003ed0b7c11acafefc12e881d5601e17449b30f22463"
  }
 },
 "nbformat": 4,
 "nbformat_minor": 2
}
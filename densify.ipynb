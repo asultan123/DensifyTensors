{
 "cells": [
  {
   "cell_type": "code",
   "execution_count": 2,
   "source": [
    "import gurobipy as gp\n",
    "from gurobipy import GRB\n",
    "import numpy as np \n",
    "import torch\n",
    "import scipy\n",
    "import scipy.sparse\n",
    "from math import prod"
   ],
   "outputs": [],
   "metadata": {}
  },
  {
   "cell_type": "code",
   "execution_count": 3,
   "source": [
    "def generate_01_sparse_matrix(size, density):\n",
    "    f, c, k = size\n",
    "    x = scipy.sparse.rand(f, c*k, density, format='csr')\n",
    "    x.data[:] = 1\n",
    "    x = np.array(x.todense()).reshape((f, c, k))\n",
    "    return x"
   ],
   "outputs": [],
   "metadata": {}
  },
  {
   "cell_type": "code",
   "execution_count": 4,
   "source": [
    "def get_ones_count(matrix):\n",
    "    return prod(matrix[np.where(matrix == 1)].shape)"
   ],
   "outputs": [],
   "metadata": {}
  },
  {
   "cell_type": "code",
   "execution_count": 5,
   "source": [
    "def calc_density(matrix):\n",
    "    ones = get_ones_count(matrix)\n",
    "    return ones/prod(matrix.shape)"
   ],
   "outputs": [],
   "metadata": {}
  },
  {
   "cell_type": "code",
   "execution_count": 6,
   "source": [
    "def density_of_remaining_weights(original_matrix, selection_bitmap):\n",
    "    not_selected = 1-selection_bitmap\n",
    "    total_unselected = np.sum(not_selected)\n",
    "    ignored_weights = np.multiply(not_selected, original_matrix)\n",
    "    unselected_ones = get_ones_count(ignored_weights)\n",
    "    return  unselected_ones/ total_unselected "
   ],
   "outputs": [],
   "metadata": {}
  },
  {
   "cell_type": "code",
   "execution_count": 41,
   "source": [
    "weight_tensor = generate_01_sparse_matrix(size = (64, 64, 9), density = 0.1)\n",
    "weight_tensor[np.where(weight_tensor != 0)]"
   ],
   "outputs": [
    {
     "output_type": "execute_result",
     "data": {
      "text/plain": [
       "array([1., 1., 1., ..., 1., 1., 1.])"
      ]
     },
     "metadata": {},
     "execution_count": 41
    }
   ],
   "metadata": {}
  },
  {
   "cell_type": "code",
   "execution_count": 45,
   "source": [
    "def find_densest_subtensor_in_weight_tensor(tensor, filter_bounds, channel_bounds, initialize = False, timeout = None):\n",
    "    f_size, c_size, k_size = tensor.shape\n",
    "    min_filters, max_filters = filter_bounds\n",
    "    min_channels, max_channels = channel_bounds\n",
    "    if min_filters > f_size:\n",
    "        raise ValueError(\"filter lowerbound must be lower than max filters\")\n",
    "    if min_channels > c_size:\n",
    "        raise ValueError(\"channel lowerbound must be lower than max filters\")\n",
    "    \n",
    "    tensor_cpy = np.copy(tensor)\n",
    "    tensor_cpy[np.where(tensor_cpy == 0)] = -1\n",
    "    m = gp.Model('densify')\n",
    "    if timeout is not None:\n",
    "        m.setParam(GRB.Param.TimeLimit, timeout)\n",
    "    F = m.addVars(f_size, vtype=GRB.BINARY, name='F')\n",
    "    C = m.addVars(c_size, vtype=GRB.BINARY, name='C')\n",
    "    \n",
    "    if initialize:\n",
    "        est_filter_density = [(i, s) for s, i in zip(np.sum(tensor, axis=(2, 1)), range(tensor.shape[0]))]\n",
    "        est_filter_density.sort(key = lambda x: x[1], reverse = True)\n",
    "        est_channel_density = [(i, s) for s, i in zip(np.sum(tensor, axis=(2, 0)), range(tensor.shape[1]))]\n",
    "        est_channel_density.sort(key = lambda x: x[1], reverse = True)\n",
    "        initial_filters = [i for i, _ in est_filter_density[:min_filters+1]]\n",
    "        initial_channels = [j for j, _ in est_channel_density[:min_channels+1]]\n",
    "\n",
    "        for i in initial_filters:\n",
    "            F[i].start = 1\n",
    "        for j in initial_channels:\n",
    "            C[j].start = 1\n",
    "        \n",
    "    Z = m.addVars(f_size, c_size, vtype=GRB.BINARY, name='Z')\n",
    "    m.addConstr(gp.quicksum([F[i] for i in range(len(F))]) <= max_filters )\n",
    "    m.addConstr(min_filters <= gp.quicksum([F[i] for i in range(len(F))]))\n",
    "    m.addConstr(gp.quicksum([C[j] for j in range(len(C))]) <= max_channels )\n",
    "    m.addConstr(min_channels <= gp.quicksum([C[j] for j in range(len(C))]))\n",
    "    m.addConstrs((Z[i, j] == gp.and_(F[i], C[j]) for i in range(len(F)) for j in range(len(C))), name='and_constraints')\n",
    "    m.setObjective(gp.quicksum(Z[i, j]*tensor_cpy[i, j, k] for i in range(len(F)) for j in range(len(C)) for k in range(k_size)), GRB.MAXIMIZE)\n",
    "    m.optimize()\n",
    "    dense_filter_indicies = [i for i, f in F.items() if f.X > 0]\n",
    "    dense_channel_indicies = [j for j, c in C.items() if c.X > 0]\n",
    "    selection_bitmap = np.zeros(tensor.shape)\n",
    "    for f in dense_filter_indicies:\n",
    "        for c in dense_channel_indicies:\n",
    "            selection_bitmap[f, c] = 1\n",
    "    dense_tensor = tensor[dense_filter_indicies, :, :][:, dense_channel_indicies, :]\n",
    "    return dense_tensor, selection_bitmap, dense_filter_indicies, dense_channel_indicies\n",
    "dense_tensor, selection_bitmap, dense_filter_indicies, dense_channel_indicies = find_densest_subtensor_in_weight_tensor(weight_tensor, (4, 32), (4, 32))\n",
    "print(f'density of weight tensor: {calc_density(weight_tensor)}')\n",
    "print(f'density of dense tensor: {calc_density(dense_tensor)}')\n",
    "print(f'density of sparse tensor: {density_of_remaining_weights(weight_tensor, selection_bitmap)}')\n",
    "print(f'selected filters: {dense_filter_indicies}')\n",
    "print(f'selected channels: {dense_channel_indicies}')"
   ],
   "outputs": [
    {
     "output_type": "stream",
     "name": "stdout",
     "text": [
      "Gurobi Optimizer version 9.5.0 build v9.5.0rc5 (linux64)\n",
      "Thread count: 8 physical cores, 8 logical processors, using up to 8 threads\n",
      "Optimize a model with 4 rows, 4224 columns and 256 nonzeros\n",
      "Model fingerprint: 0x3de24f83\n",
      "Model has 4096 general constraints\n",
      "Variable types: 0 continuous, 4224 integer (4224 binary)\n",
      "Coefficient statistics:\n",
      "  Matrix range     [1e+00, 1e+00]\n",
      "  Objective range  [1e+00, 9e+00]\n",
      "  Bounds range     [1e+00, 1e+00]\n",
      "  RHS range        [4e+00, 3e+01]\n",
      "Presolve added 4099 rows and 0 columns\n",
      "Presolve time: 0.01s\n",
      "Presolved: 4103 rows, 4224 columns, 12547 nonzeros\n",
      "Variable types: 0 continuous, 4224 integer (4224 binary)\n",
      "Found heuristic solution: objective -126.0000000\n",
      "Found heuristic solution: objective -118.0000000\n",
      "\n",
      "Root relaxation: objective 1.500000e+00, 136 iterations, 0.00 seconds (0.01 work units)\n",
      "\n",
      "    Nodes    |    Current Node    |     Objective Bounds      |     Work\n",
      " Expl Unexpl |  Obj  Depth IntInf | Incumbent    BestBd   Gap | It/Node Time\n",
      "\n",
      "     0     0    1.50000    0   19 -118.00000    1.50000   101%     -    0s\n",
      "H    0     0                    -112.0000000    1.50000   101%     -    0s\n",
      "H    0     0                     -68.0000000    1.50000   102%     -    0s\n",
      "     0     0   -0.00000    0   17  -68.00000   -0.00000   100%     -    0s\n",
      "     0     0   -0.00000    0   19  -68.00000   -0.00000   100%     -    0s\n",
      "     0     0   -0.00000    0   17  -68.00000   -0.00000   100%     -    0s\n",
      "     0     0   -0.00000    0   17  -68.00000   -0.00000   100%     -    0s\n",
      "     0     2   -0.00000    0   17  -68.00000   -0.00000   100%     -    0s\n",
      "H 1490  1142                     -56.0000000  -42.52083  24.1%  19.6    3s\n",
      "  1502  1150  -47.16667   22  220  -56.00000  -47.16667  15.8%  19.5    5s\n",
      "  5544  1161  -48.96396   40   40  -56.00000  -48.50794  13.4%  42.7   10s\n",
      "\n",
      "Cutting planes:\n",
      "  Gomory: 2\n",
      "  Cover: 1\n",
      "  MIR: 14\n",
      "  StrongCG: 1\n",
      "  Flow cover: 54\n",
      "  Zero half: 3\n",
      "  RLT: 93\n",
      "\n",
      "Explored 7395 nodes (336875 simplex iterations) in 10.98 seconds (22.01 work units)\n",
      "Thread count was 8 (of 8 available processors)\n",
      "\n",
      "Solution count 5: -56 -68 -112 ... -126\n",
      "No other solutions better than -56\n",
      "\n",
      "Optimal solution found (tolerance 1.00e-04)\n",
      "Best objective -5.600000000000e+01, best bound -5.600000000000e+01, gap 0.0000%\n",
      "density of weight tensor: 0.09998914930555555\n",
      "density of dense tensor: 0.3055555555555556\n",
      "density of sparse tensor: 0.09918300653594771\n",
      "selected filters: [21, 31, 54, 57]\n",
      "selected channels: [10, 27, 28, 63]\n"
     ]
    }
   ],
   "metadata": {}
  }
 ],
 "metadata": {
  "orig_nbformat": 4,
  "language_info": {
   "name": "python",
   "version": "3.9.5",
   "mimetype": "text/x-python",
   "codemirror_mode": {
    "name": "ipython",
    "version": 3
   },
   "pygments_lexer": "ipython3",
   "nbconvert_exporter": "python",
   "file_extension": ".py"
  },
  "kernelspec": {
   "name": "python3",
   "display_name": "Python 3.9.5 64-bit ('.venv': poetry)"
  },
  "interpreter": {
   "hash": "b96411f1fa39847304dd003ed0b7c11acafefc12e881d5601e17449b30f22463"
  }
 },
 "nbformat": 4,
 "nbformat_minor": 2
}
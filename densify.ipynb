{
 "cells": [
  {
   "cell_type": "code",
   "execution_count": 1,
   "metadata": {},
   "outputs": [],
   "source": [
    "import gurobipy as gp\n",
    "from gurobipy import GRB\n",
    "import numpy as np \n",
    "import torch\n",
    "import scipy\n",
    "import scipy.sparse\n",
    "from math import prod\n",
    "from math import sqrt, floor, ceil\n",
    "import pandas as pd\n"
   ]
  },
  {
   "cell_type": "code",
   "execution_count": 10,
   "metadata": {},
   "outputs": [
    {
     "data": {
      "text/plain": [
       "[(1, 4), (1, 9), (2, 8), (4, 9)]"
      ]
     },
     "execution_count": 10,
     "metadata": {},
     "output_type": "execute_result"
    }
   ],
   "source": [
    "t = np.zeros((set_size+1, set_size+1), dtype=np.int32)\n",
    "for i in range(1, set_size+1):\n",
    "    for j in range(1, set_size+1):\n",
    "        t[i, j] = (i)*(j)\n",
    "r = np.zeros((set_size+1, set_size+1), dtype=np.int32)\n",
    "for i in range(1, set_size+1):\n",
    "    for j in range(1, set_size+1):\n",
    "        if i!=j and sqrt(t[i,j]) == floor(sqrt(t[i,j])):\n",
    "            r[i,j] = 1\n",
    "i, j = np.where(np.triu(r[1:, 1:])==1)\n",
    "invalid_combos = [(a+1,b+1) for a, b in zip(i.tolist(), j.tolist())]\n",
    "invalid_combos\n"
   ]
  },
  {
   "cell_type": "code",
   "execution_count": null,
   "metadata": {},
   "outputs": [],
   "source": []
  },
  {
   "cell_type": "code",
   "execution_count": 49,
   "metadata": {},
   "outputs": [
    {
     "name": "stdout",
     "output_type": "stream",
     "text": [
      "Gurobi Optimizer version 9.5.0 build v9.5.0rc5 (linux64)\n",
      "Thread count: 8 physical cores, 8 logical processors, using up to 8 threads\n",
      "Optimize a model with 729 rows, 500 columns and 1458 nonzeros\n",
      "Model fingerprint: 0xcdb58cd7\n",
      "Variable types: 0 continuous, 500 integer (500 binary)\n",
      "Coefficient statistics:\n",
      "  Matrix range     [1e+00, 1e+00]\n",
      "  Objective range  [1e+00, 1e+00]\n",
      "  Bounds range     [1e+00, 1e+00]\n",
      "  RHS range        [1e+00, 1e+00]\n",
      "Found heuristic solution: objective 306.0000000\n",
      "Presolve removed 729 rows and 500 columns\n",
      "Presolve time: 0.00s\n",
      "Presolve: All rows and columns removed\n",
      "\n",
      "Explored 0 nodes (0 simplex iterations) in 0.00 seconds (0.00 work units)\n",
      "Thread count was 1 (of 8 available processors)\n",
      "\n",
      "Solution count 1: 306 \n",
      "\n",
      "Optimal solution found (tolerance 1.00e-04)\n",
      "Best objective 3.060000000000e+02, best bound 3.060000000000e+02, gap 0.0000%\n"
     ]
    }
   ],
   "source": [
    "set_size = 500\n",
    "r = np.zeros((set_size+1, set_size+1), dtype=np.int32)\n",
    "for i in range(1, set_size+1):\n",
    "    for j in range(1, set_size+1):\n",
    "        if i!=j and sqrt((i)*(j)) == floor(sqrt((i)*(j))):\n",
    "            r[i,j] = 1\n",
    "a, b = np.where(np.triu(r[1:, 1:])==1)\n",
    "m = gp.Model(\"find\")\n",
    "X = m.addVars(set_size, vtype=GRB.BINARY, name=\"X\")\n",
    "m.setObjective(\n",
    "    gp.quicksum(\n",
    "        X[i]\n",
    "        for i in range(len(X))\n",
    "    ),\n",
    "    GRB.MAXIMIZE,\n",
    ")\n",
    "m.addConstrs(\n",
    "    (X[i] <= 1-X[j] for i, j in zip(a,b)),\n",
    "    name=\"a_or_b_or_neither_constraint\",\n",
    ")\n",
    "m.optimize()\n",
    "\n",
    "# Sanity Check\n",
    "sol = [idx+1 for idx, v in enumerate(m.getVars()) if v.X == 1]\n",
    "for i in sol:\n",
    "    for j in sol:\n",
    "        if i!=j and sqrt((i)*(j)) == floor(sqrt((i)*(j))):\n",
    "            print('fail')"
   ]
  },
  {
   "cell_type": "code",
   "execution_count": 47,
   "metadata": {},
   "outputs": [],
   "source": []
  },
  {
   "cell_type": "code",
   "execution_count": 2,
   "metadata": {},
   "outputs": [],
   "source": [
    "def generate_01_sparse_matrix(size, density):\n",
    "    f, c, ky, kx = size\n",
    "    x = scipy.sparse.rand(f, c*ky*kx, density, format='csr')\n",
    "    x.data[:] = 1\n",
    "    x = np.array(x.todense()).reshape((f, c, ky, kx))\n",
    "    return x"
   ]
  },
  {
   "cell_type": "code",
   "execution_count": 3,
   "metadata": {},
   "outputs": [],
   "source": [
    "def get_ones_count(matrix):\n",
    "    return prod(matrix[np.where(matrix == 1)].shape)"
   ]
  },
  {
   "cell_type": "code",
   "execution_count": 4,
   "metadata": {},
   "outputs": [],
   "source": [
    "def calc_density(matrix):\n",
    "    ones = get_ones_count(matrix)\n",
    "    return ones/prod(matrix.shape)"
   ]
  },
  {
   "cell_type": "code",
   "execution_count": 5,
   "metadata": {},
   "outputs": [],
   "source": [
    "def density_of_remaining_weights(original_matrix, selection_bitmap):\n",
    "    bitmap = np.zeros(original_matrix.shape[0:2])\n",
    "    for i, j in selection_bitmap:\n",
    "        bitmap[i, j] = 1\n",
    "    not_selected = 1-bitmap\n",
    "    total_unselected = np.sum(not_selected)\n",
    "    ignored_weights = np.multiply(not_selected, np.sum(original_matrix, axis=(3, 2)))\n",
    "    unselected_ones = get_ones_count(ignored_weights)\n",
    "    return  unselected_ones/ total_unselected "
   ]
  },
  {
   "cell_type": "code",
   "execution_count": 6,
   "metadata": {},
   "outputs": [
    {
     "data": {
      "text/plain": [
       "array([1., 1., 1., ..., 1., 1., 1.])"
      ]
     },
     "execution_count": 6,
     "metadata": {},
     "output_type": "execute_result"
    }
   ],
   "source": [
    "weight_tensor = generate_01_sparse_matrix(size = (64, 64, 3, 3), density = 0.70)\n",
    "weight_tensor[np.where(weight_tensor != 0)]"
   ]
  },
  {
   "cell_type": "code",
   "execution_count": 7,
   "metadata": {},
   "outputs": [],
   "source": [
    "def find_densest_subtensor_in_weight_tensor(\n",
    "    tensor,\n",
    "    min_filters=None,\n",
    "    min_channels=None,\n",
    "    initialize=False,\n",
    "    timeout=None,\n",
    "    avoid_bitmap=None,\n",
    "):\n",
    "    f_size, c_size, ky_size, kx_size = tensor.shape\n",
    "    if min_filters is not None and min_filters > f_size:\n",
    "        raise ValueError(\"filter lowerbound must be lower than max filters\")\n",
    "    if min_channels is not None and min_channels > c_size:\n",
    "        raise ValueError(\"channel lowerbound must be lower than max filters\")\n",
    "\n",
    "    tensor_cpy = np.copy(tensor)\n",
    "    tensor_cpy[np.where(tensor_cpy == 0)] = -1\n",
    "    m = gp.Model(\"densify\")\n",
    "    if timeout is not None:\n",
    "        m.setParam(GRB.Param.TimeLimit, timeout)\n",
    "    F = m.addVars(f_size, vtype=GRB.BINARY, name=\"F\")\n",
    "    C = m.addVars(c_size, vtype=GRB.BINARY, name=\"C\")\n",
    "\n",
    "    if initialize:\n",
    "        est_filter_density = [\n",
    "            (i, s) for s, i in zip(np.sum(tensor, axis=(2, 1)), range(tensor.shape[0]))\n",
    "        ]\n",
    "        est_filter_density.sort(key=lambda x: x[1], reverse=True)\n",
    "        est_channel_density = [\n",
    "            (i, s) for s, i in zip(np.sum(tensor, axis=(2, 0)), range(tensor.shape[1]))\n",
    "        ]\n",
    "        est_channel_density.sort(key=lambda x: x[1], reverse=True)\n",
    "        initial_filters = [i for i, _ in est_filter_density[: min_filters + 1]]\n",
    "        initial_channels = [j for j, _ in est_channel_density[: min_channels + 1]]\n",
    "\n",
    "        for i in initial_filters:\n",
    "            F[i].start = 1\n",
    "        for j in initial_channels:\n",
    "            C[j].start = 1\n",
    "\n",
    "    Z = m.addVars(f_size, c_size, vtype=GRB.BINARY, name=\"Z\")\n",
    "\n",
    "    if avoid_bitmap is not None:\n",
    "        m.addConstrs(\n",
    "            (Z[i, j] == 0 for i, j in avoid_bitmap),\n",
    "            name=\"avoid_constraints\",\n",
    "        )\n",
    "\n",
    "    if min_filters is not None:\n",
    "        m.addConstr(min_filters == gp.quicksum([F[i] for i in range(len(F))]))\n",
    "    if min_channels is not None:\n",
    "        m.addConstr(gp.quicksum([C[j] for j in range(len(C))]) <= min_channels)\n",
    "        \n",
    "    m.addConstrs(\n",
    "        (Z[i, j] == gp.and_(F[i], C[j]) for i in range(len(F)) for j in range(len(C))),\n",
    "        name=\"and_constraints\",\n",
    "    )\n",
    "    m.setObjective(\n",
    "        gp.quicksum(\n",
    "            Z[i, j] * tensor_cpy[i, j, ky, kx]\n",
    "            for i in range(len(F))\n",
    "            for j in range(len(C))\n",
    "            for ky in range(ky_size)\n",
    "            for kx in range(kx_size)\n",
    "        ),\n",
    "        GRB.MAXIMIZE,\n",
    "    )\n",
    "    m.optimize()\n",
    "    dense_filter_indicies = [i for i, f in F.items() if f.X > 0]\n",
    "    dense_channel_indicies = [j for j, c in C.items() if c.X > 0]\n",
    "    selection_bitmap = [\n",
    "        (i, j) for i in range(len(F)) for j in range(len(C)) if Z[i, j].X == 1\n",
    "    ]\n",
    "    dense_tensor = tensor[dense_filter_indicies, :, :][:, dense_channel_indicies, :]\n",
    "    return dense_tensor, selection_bitmap, dense_filter_indicies, dense_channel_indicies\n"
   ]
  },
  {
   "cell_type": "code",
   "execution_count": 8,
   "metadata": {},
   "outputs": [
    {
     "name": "stdout",
     "output_type": "stream",
     "text": [
      "Reducing from tensor of size 64 to tensors of size 8\n",
      "Set parameter Username\n",
      "Academic license - for non-commercial use only - expires 2022-04-04\n",
      "Set parameter TimeLimit to value 25\n",
      "Gurobi Optimizer version 9.5.0 build v9.5.0rc5 (linux64)\n",
      "Thread count: 8 physical cores, 8 logical processors, using up to 8 threads\n",
      "Optimize a model with 2 rows, 4224 columns and 128 nonzeros\n",
      "Model fingerprint: 0xca30eb92\n",
      "Model has 4096 general constraints\n",
      "Variable types: 0 continuous, 4224 integer (4224 binary)\n",
      "Coefficient statistics:\n",
      "  Matrix range     [1e+00, 1e+00]\n",
      "  Objective range  [1e+00, 9e+00]\n",
      "  Bounds range     [1e+00, 1e+00]\n",
      "  RHS range        [8e+00, 8e+00]\n",
      "Presolve added 7784 rows and 0 columns\n",
      "Presolve time: 0.03s\n",
      "Presolved: 7786 rows, 4224 columns, 16104 nonzeros\n",
      "Variable types: 0 continuous, 4224 integer (4224 binary)\n",
      "Found heuristic solution: objective 312.0000000\n",
      "\n",
      "Root relaxation: objective 1.926500e+03, 5043 iterations, 0.09 seconds (0.10 work units)\n",
      "\n",
      "    Nodes    |    Current Node    |     Objective Bounds      |     Work\n",
      " Expl Unexpl |  Obj  Depth IntInf | Incumbent    BestBd   Gap | It/Node Time\n",
      "\n",
      "     0     0 1926.50000    0 3816  312.00000 1926.50000   517%     -    0s\n",
      "     0     0  497.04553    0  564  312.00000  497.04553  59.3%     -    1s\n",
      "     0     0  495.53792    0  552  312.00000  495.53792  58.8%     -    2s\n",
      "     0     0  495.53792    0  551  312.00000  495.53792  58.8%     -    2s\n",
      "     0     2  495.27325    0  549  312.00000  495.27325  58.7%     -    5s\n",
      "H   31    40                     316.0000000  489.84828  55.0%  1622    9s\n",
      "H   32    40                     328.0000000  489.84828  49.3%  1616    9s\n",
      "H   38    40                     368.0000000  489.84828  33.1%  1564    9s\n",
      "    67    76  483.95614    9  579  368.00000  489.84828  33.1%  1229   10s\n",
      "H   70    76                     380.0000000  489.84828  28.9%  1197   10s\n",
      "H  142   152                     382.0000013  489.84828  28.2%  1007   12s\n",
      "   258   274  467.55034   24  488  382.00000  489.84828  28.2%   776   15s\n",
      "   305   302  463.95860   27  404  382.00000  489.84828  28.2%   738   21s\n",
      "   771   706  399.72505   64  209  382.00000  489.84828  28.2%   503   25s\n",
      "\n",
      "Cutting planes:\n",
      "  Gomory: 2\n",
      "  RLT: 116\n",
      "\n",
      "Explored 794 nodes (407614 simplex iterations) in 25.01 seconds (64.65 work units)\n",
      "Thread count was 8 (of 8 available processors)\n",
      "\n",
      "Solution count 6: 382 380 368 ... 312\n",
      "\n",
      "Time limit reached\n",
      "Best objective 3.820000012746e+02, best bound 4.890000000000e+02, gap 28.0105%\n",
      "density of input tensor: 0.7000054253472222\n",
      "density of output tensor: 0.8098765432098766\n",
      "density of sparse tensor: 0.0004918839153959665\n",
      "selected filters: [1, 2, 4, 5, 12, 32, 34, 35, 44, 53]\n",
      "selected channels: [4, 22, 32, 37, 45, 48, 50, 51, 60]\n",
      "Reducing from tensor of size 10 to tensors of size 8\n",
      "Set parameter TimeLimit to value 25\n"
     ]
    },
    {
     "ename": "KeyError",
     "evalue": "(1, 32)",
     "output_type": "error",
     "traceback": [
      "\u001b[0;31m---------------------------------------------------------------------------\u001b[0m",
      "\u001b[0;31mKeyError\u001b[0m                                  Traceback (most recent call last)",
      "Input \u001b[0;32mIn [8]\u001b[0m, in \u001b[0;36m<module>\u001b[0;34m\u001b[0m\n\u001b[1;32m      7\u001b[0m initial_size \u001b[38;5;241m=\u001b[39m input_tensor\u001b[38;5;241m.\u001b[39mshape[\u001b[38;5;241m0\u001b[39m]\n\u001b[1;32m      8\u001b[0m \u001b[38;5;28mprint\u001b[39m(\u001b[38;5;124mf\u001b[39m\u001b[38;5;124m'\u001b[39m\u001b[38;5;124mReducing from tensor of size \u001b[39m\u001b[38;5;132;01m{\u001b[39;00minitial_size\u001b[38;5;132;01m}\u001b[39;00m\u001b[38;5;124m to tensors of size \u001b[39m\u001b[38;5;132;01m{\u001b[39;00mtarget_size\u001b[38;5;132;01m}\u001b[39;00m\u001b[38;5;124m'\u001b[39m)\n\u001b[1;32m      9\u001b[0m (\n\u001b[1;32m     10\u001b[0m     output_tensor,\n\u001b[1;32m     11\u001b[0m     selection_bitmap,\n\u001b[1;32m     12\u001b[0m     dense_filter_indicies,\n\u001b[1;32m     13\u001b[0m     dense_channel_indicies,\n\u001b[0;32m---> 14\u001b[0m ) \u001b[38;5;241m=\u001b[39m \u001b[43mfind_densest_subtensor_in_weight_tensor\u001b[49m\u001b[43m(\u001b[49m\u001b[43minput_tensor\u001b[49m\u001b[43m,\u001b[49m\u001b[43m \u001b[49m\u001b[43mtarget_size\u001b[49m\u001b[43m,\u001b[49m\u001b[43m \u001b[49m\u001b[43mtarget_size\u001b[49m\u001b[43m,\u001b[49m\u001b[43m \u001b[49m\u001b[43mtimeout\u001b[49m\u001b[38;5;241;43m=\u001b[39;49m\u001b[38;5;241;43m25\u001b[39;49m\u001b[43m,\u001b[49m\u001b[43m \u001b[49m\u001b[43mavoid_bitmap\u001b[49m\u001b[38;5;241;43m=\u001b[39;49m\u001b[43mselection_bitmap\u001b[49m\u001b[43m)\u001b[49m\n\u001b[1;32m     15\u001b[0m input_density \u001b[38;5;241m=\u001b[39m calc_density(input_tensor)\n\u001b[1;32m     16\u001b[0m output_density \u001b[38;5;241m=\u001b[39m calc_density(output_tensor)\n",
      "Input \u001b[0;32mIn [7]\u001b[0m, in \u001b[0;36mfind_densest_subtensor_in_weight_tensor\u001b[0;34m(tensor, min_filters, min_channels, initialize, timeout, avoid_bitmap)\u001b[0m\n\u001b[1;32m     40\u001b[0m Z \u001b[38;5;241m=\u001b[39m m\u001b[38;5;241m.\u001b[39maddVars(f_size, c_size, vtype\u001b[38;5;241m=\u001b[39mGRB\u001b[38;5;241m.\u001b[39mBINARY, name\u001b[38;5;241m=\u001b[39m\u001b[38;5;124m\"\u001b[39m\u001b[38;5;124mZ\u001b[39m\u001b[38;5;124m\"\u001b[39m)\n\u001b[1;32m     42\u001b[0m \u001b[38;5;28;01mif\u001b[39;00m avoid_bitmap \u001b[38;5;129;01mis\u001b[39;00m \u001b[38;5;129;01mnot\u001b[39;00m \u001b[38;5;28;01mNone\u001b[39;00m:\n\u001b[0;32m---> 43\u001b[0m     \u001b[43mm\u001b[49m\u001b[38;5;241;43m.\u001b[39;49m\u001b[43maddConstrs\u001b[49m\u001b[43m(\u001b[49m\n\u001b[1;32m     44\u001b[0m \u001b[43m        \u001b[49m\u001b[43m(\u001b[49m\u001b[43mZ\u001b[49m\u001b[43m[\u001b[49m\u001b[43mi\u001b[49m\u001b[43m,\u001b[49m\u001b[43m \u001b[49m\u001b[43mj\u001b[49m\u001b[43m]\u001b[49m\u001b[43m \u001b[49m\u001b[38;5;241;43m==\u001b[39;49m\u001b[43m \u001b[49m\u001b[38;5;241;43m0\u001b[39;49m\u001b[43m \u001b[49m\u001b[38;5;28;43;01mfor\u001b[39;49;00m\u001b[43m \u001b[49m\u001b[43mi\u001b[49m\u001b[43m,\u001b[49m\u001b[43m \u001b[49m\u001b[43mj\u001b[49m\u001b[43m \u001b[49m\u001b[38;5;129;43;01min\u001b[39;49;00m\u001b[43m \u001b[49m\u001b[43mavoid_bitmap\u001b[49m\u001b[43m)\u001b[49m\u001b[43m,\u001b[49m\n\u001b[1;32m     45\u001b[0m \u001b[43m        \u001b[49m\u001b[43mname\u001b[49m\u001b[38;5;241;43m=\u001b[39;49m\u001b[38;5;124;43m\"\u001b[39;49m\u001b[38;5;124;43mavoid_constraints\u001b[39;49m\u001b[38;5;124;43m\"\u001b[39;49m\u001b[43m,\u001b[49m\n\u001b[1;32m     46\u001b[0m \u001b[43m    \u001b[49m\u001b[43m)\u001b[49m\n\u001b[1;32m     48\u001b[0m \u001b[38;5;28;01mif\u001b[39;00m min_filters \u001b[38;5;129;01mis\u001b[39;00m \u001b[38;5;129;01mnot\u001b[39;00m \u001b[38;5;28;01mNone\u001b[39;00m:\n\u001b[1;32m     49\u001b[0m     m\u001b[38;5;241m.\u001b[39maddConstr(min_filters \u001b[38;5;241m==\u001b[39m gp\u001b[38;5;241m.\u001b[39mquicksum([F[i] \u001b[38;5;28;01mfor\u001b[39;00m i \u001b[38;5;129;01min\u001b[39;00m \u001b[38;5;28mrange\u001b[39m(\u001b[38;5;28mlen\u001b[39m(F))]))\n",
      "File \u001b[0;32msrc/gurobipy/model.pxi:3533\u001b[0m, in \u001b[0;36mgurobipy.Model.addConstrs\u001b[0;34m()\u001b[0m\n",
      "Input \u001b[0;32mIn [7]\u001b[0m, in \u001b[0;36m<genexpr>\u001b[0;34m(.0)\u001b[0m\n\u001b[1;32m     40\u001b[0m Z \u001b[38;5;241m=\u001b[39m m\u001b[38;5;241m.\u001b[39maddVars(f_size, c_size, vtype\u001b[38;5;241m=\u001b[39mGRB\u001b[38;5;241m.\u001b[39mBINARY, name\u001b[38;5;241m=\u001b[39m\u001b[38;5;124m\"\u001b[39m\u001b[38;5;124mZ\u001b[39m\u001b[38;5;124m\"\u001b[39m)\n\u001b[1;32m     42\u001b[0m \u001b[38;5;28;01mif\u001b[39;00m avoid_bitmap \u001b[38;5;129;01mis\u001b[39;00m \u001b[38;5;129;01mnot\u001b[39;00m \u001b[38;5;28;01mNone\u001b[39;00m:\n\u001b[1;32m     43\u001b[0m     m\u001b[38;5;241m.\u001b[39maddConstrs(\n\u001b[0;32m---> 44\u001b[0m         (\u001b[43mZ\u001b[49m\u001b[43m[\u001b[49m\u001b[43mi\u001b[49m\u001b[43m,\u001b[49m\u001b[43m \u001b[49m\u001b[43mj\u001b[49m\u001b[43m]\u001b[49m \u001b[38;5;241m==\u001b[39m \u001b[38;5;241m0\u001b[39m \u001b[38;5;28;01mfor\u001b[39;00m i, j \u001b[38;5;129;01min\u001b[39;00m avoid_bitmap),\n\u001b[1;32m     45\u001b[0m         name\u001b[38;5;241m=\u001b[39m\u001b[38;5;124m\"\u001b[39m\u001b[38;5;124mavoid_constraints\u001b[39m\u001b[38;5;124m\"\u001b[39m,\n\u001b[1;32m     46\u001b[0m     )\n\u001b[1;32m     48\u001b[0m \u001b[38;5;28;01mif\u001b[39;00m min_filters \u001b[38;5;129;01mis\u001b[39;00m \u001b[38;5;129;01mnot\u001b[39;00m \u001b[38;5;28;01mNone\u001b[39;00m:\n\u001b[1;32m     49\u001b[0m     m\u001b[38;5;241m.\u001b[39maddConstr(min_filters \u001b[38;5;241m==\u001b[39m gp\u001b[38;5;241m.\u001b[39mquicksum([F[i] \u001b[38;5;28;01mfor\u001b[39;00m i \u001b[38;5;129;01min\u001b[39;00m \u001b[38;5;28mrange\u001b[39m(\u001b[38;5;28mlen\u001b[39m(F))]))\n",
      "\u001b[0;31mKeyError\u001b[0m: (1, 32)"
     ]
    }
   ],
   "source": [
    "input_tensor = weight_tensor\n",
    "size = prod(input_tensor.shape[0:2])\n",
    "density_tracker = [calc_density(input_tensor)]\n",
    "target_size = 8\n",
    "selection_bitmap = None\n",
    "for i in range(size//target_size**2):\n",
    "    initial_size = input_tensor.shape[0]\n",
    "    print(f'Reducing from tensor of size {initial_size} to tensors of size {target_size}')\n",
    "    (\n",
    "        output_tensor,\n",
    "        selection_bitmap,\n",
    "        dense_filter_indicies,\n",
    "        dense_channel_indicies,\n",
    "    ) = find_densest_subtensor_in_weight_tensor(input_tensor, target_size, target_size, timeout=25, avoid_bitmap=selection_bitmap)\n",
    "    input_density = calc_density(input_tensor)\n",
    "    output_density = calc_density(output_tensor)\n",
    "    density_tracker.append(output_density)\n",
    "    remaining_density = density_of_remaining_weights(input_tensor, selection_bitmap)\n",
    "    \n",
    "    print(f\"density of input tensor: {input_density}\")\n",
    "    print(f\"density of output tensor: {output_density}\")\n",
    "    print(\n",
    "        f\"density of sparse tensor: {remaining_density}\"\n",
    "    )\n",
    "    print(f\"selected filters: {dense_filter_indicies}\")\n",
    "    print(f\"selected channels: {dense_channel_indicies}\")\n",
    "    input_tensor = output_tensor\n"
   ]
  }
 ],
 "metadata": {
  "interpreter": {
   "hash": "6611c767d2d5b9137486f40dd7a0473f9f6658860e1b6c430d73ae348b063205"
  },
  "kernelspec": {
   "display_name": "Python 3.9.5 64-bit ('.venv': poetry)",
   "name": "python3"
  },
  "language_info": {
   "codemirror_mode": {
    "name": "ipython",
    "version": 3
   },
   "file_extension": ".py",
   "mimetype": "text/x-python",
   "name": "python",
   "nbconvert_exporter": "python",
   "pygments_lexer": "ipython3",
   "version": "3.9.5"
  },
  "orig_nbformat": 4
 },
 "nbformat": 4,
 "nbformat_minor": 2
}

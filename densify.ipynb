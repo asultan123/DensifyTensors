{
 "cells": [
  {
   "cell_type": "code",
   "execution_count": 2,
   "source": [
    "import gurobipy as gp\n",
    "from gurobipy import GRB\n",
    "import numpy as np \n",
    "import torch\n",
    "import scipy\n",
    "import scipy.sparse\n",
    "from math import prod"
   ],
   "outputs": [],
   "metadata": {}
  },
  {
   "cell_type": "code",
   "execution_count": 3,
   "source": [
    "def generate_01_sparse_matrix(size, density):\n",
    "    f, c, k = size\n",
    "    x = scipy.sparse.rand(f, c*k, density, format='csr')\n",
    "    x.data[:] = 1\n",
    "    x = np.array(x.todense()).reshape((f, c, k))\n",
    "    return x"
   ],
   "outputs": [],
   "metadata": {}
  },
  {
   "cell_type": "code",
   "execution_count": 4,
   "source": [
    "def get_ones_count(matrix):\n",
    "    return prod(matrix[np.where(matrix == 1)].shape)"
   ],
   "outputs": [],
   "metadata": {}
  },
  {
   "cell_type": "code",
   "execution_count": 5,
   "source": [
    "def calc_density(matrix):\n",
    "    ones = get_ones_count(matrix)\n",
    "    return ones/prod(matrix.shape)"
   ],
   "outputs": [],
   "metadata": {}
  },
  {
   "cell_type": "code",
   "execution_count": 6,
   "source": [
    "def density_of_remaining_weights(original_matrix, selection_bitmap):\n",
    "    not_selected = 1-selection_bitmap\n",
    "    total_unselected = np.sum(not_selected)\n",
    "    ignored_weights = np.multiply(not_selected, original_matrix)\n",
    "    unselected_ones = get_ones_count(ignored_weights)\n",
    "    return  unselected_ones/ total_unselected "
   ],
   "outputs": [],
   "metadata": {}
  },
  {
   "cell_type": "code",
   "execution_count": 9,
   "source": [
    "weight_tensor = generate_01_sparse_matrix(size = (64, 64, 9), density = 0.70)\n",
    "weight_tensor[np.where(weight_tensor != 0)]"
   ],
   "outputs": [
    {
     "output_type": "execute_result",
     "data": {
      "text/plain": [
       "array([1., 1., 1., ..., 1., 1., 1.])"
      ]
     },
     "metadata": {},
     "execution_count": 9
    }
   ],
   "metadata": {}
  },
  {
   "cell_type": "code",
   "execution_count": 11,
   "source": [
    "def find_densest_subtensor_in_weight_tensor(tensor, filter_bounds, channel_bounds, initialize = False, timeout = None):\n",
    "    f_size, c_size, k_size = tensor.shape\n",
    "    min_filters, max_filters = filter_bounds\n",
    "    min_channels, max_channels = channel_bounds\n",
    "    if min_filters > f_size:\n",
    "        raise ValueError(\"filter lowerbound must be lower than max filters\")\n",
    "    if min_channels > c_size:\n",
    "        raise ValueError(\"channel lowerbound must be lower than max filters\")\n",
    "    \n",
    "    tensor_cpy = np.copy(tensor)\n",
    "    tensor_cpy[np.where(tensor_cpy == 0)] = -1\n",
    "    m = gp.Model('densify')\n",
    "    if timeout is not None:\n",
    "        m.setParam(GRB.Param.TimeLimit, timeout)\n",
    "    F = m.addVars(f_size, vtype=GRB.BINARY, name='F')\n",
    "    C = m.addVars(c_size, vtype=GRB.BINARY, name='C')\n",
    "    \n",
    "    if initialize:\n",
    "        est_filter_density = [(i, s) for s, i in zip(np.sum(tensor, axis=(2, 1)), range(tensor.shape[0]))]\n",
    "        est_filter_density.sort(key = lambda x: x[1], reverse = True)\n",
    "        est_channel_density = [(i, s) for s, i in zip(np.sum(tensor, axis=(2, 0)), range(tensor.shape[1]))]\n",
    "        est_channel_density.sort(key = lambda x: x[1], reverse = True)\n",
    "        initial_filters = [i for i, _ in est_filter_density[:min_filters+1]]\n",
    "        initial_channels = [j for j, _ in est_channel_density[:min_channels+1]]\n",
    "\n",
    "        for i in initial_filters:\n",
    "            F[i].start = 1\n",
    "        for j in initial_channels:\n",
    "            C[j].start = 1\n",
    "        \n",
    "    Z = m.addVars(f_size, c_size, vtype=GRB.BINARY, name='Z')\n",
    "    m.addConstr(gp.quicksum([F[i] for i in range(len(F))]) <= max_filters )\n",
    "    m.addConstr(min_filters <= gp.quicksum([F[i] for i in range(len(F))]))\n",
    "    m.addConstr(gp.quicksum([C[j] for j in range(len(C))]) <= max_channels )\n",
    "    m.addConstr(min_channels <= gp.quicksum([C[j] for j in range(len(C))]))\n",
    "    m.addConstrs((Z[i, j] == gp.and_(F[i], C[j]) for i in range(len(F)) for j in range(len(C))), name='and_constraints')\n",
    "    m.setObjective(gp.quicksum(Z[i, j]*tensor_cpy[i, j, k] for i in range(len(F)) for j in range(len(C)) for k in range(k_size)), GRB.MAXIMIZE)\n",
    "    m.optimize()\n",
    "    dense_filter_indicies = [i for i, f in F.items() if f.X > 0]\n",
    "    dense_channel_indicies = [j for j, c in C.items() if c.X > 0]\n",
    "    selection_bitmap = np.zeros(tensor.shape)\n",
    "    for f in dense_filter_indicies:\n",
    "        for c in dense_channel_indicies:\n",
    "            selection_bitmap[f, c] = 1\n",
    "    dense_tensor = tensor[dense_filter_indicies, :, :][:, dense_channel_indicies, :]\n",
    "    return dense_tensor, selection_bitmap, dense_filter_indicies, dense_channel_indicies\n",
    "dense_tensor, selection_bitmap, dense_filter_indicies, dense_channel_indicies = find_densest_subtensor_in_weight_tensor(weight_tensor, (8, 8), (8, 8), timeout=60)\n",
    "print(f'density of weight tensor: {calc_density(weight_tensor)}')\n",
    "print(f'density of dense tensor: {calc_density(dense_tensor)}')\n",
    "print(f'density of sparse tensor: {density_of_remaining_weights(weight_tensor, selection_bitmap)}')\n",
    "print(f'selected filters: {dense_filter_indicies}')\n",
    "print(f'selected channels: {dense_channel_indicies}')"
   ],
   "outputs": [
    {
     "output_type": "stream",
     "name": "stdout",
     "text": [
      "Set parameter TimeLimit to value 60\n",
      "Gurobi Optimizer version 9.5.0 build v9.5.0rc5 (linux64)\n",
      "Thread count: 8 physical cores, 8 logical processors, using up to 8 threads\n",
      "Optimize a model with 4 rows, 4224 columns and 256 nonzeros\n",
      "Model fingerprint: 0x210a8b23\n",
      "Model has 4096 general constraints\n",
      "Variable types: 0 continuous, 4224 integer (4224 binary)\n",
      "Coefficient statistics:\n",
      "  Matrix range     [1e+00, 1e+00]\n",
      "  Objective range  [1e+00, 9e+00]\n",
      "  Bounds range     [1e+00, 1e+00]\n",
      "  RHS range        [8e+00, 8e+00]\n",
      "Presolve added 7784 rows and 0 columns\n",
      "Presolve time: 0.03s\n",
      "Presolved: 7788 rows, 4224 columns, 16106 nonzeros\n",
      "Variable types: 0 continuous, 4224 integer (4224 binary)\n",
      "Found heuristic solution: objective 334.0000000\n",
      "\n",
      "Root relaxation: objective 1.924750e+03, 5306 iterations, 0.11 seconds (0.11 work units)\n",
      "\n",
      "    Nodes    |    Current Node    |     Objective Bounds      |     Work\n",
      " Expl Unexpl |  Obj  Depth IntInf | Incumbent    BestBd   Gap | It/Node Time\n",
      "\n",
      "     0     0 1924.75000    0 3818  334.00000 1924.75000   476%     -    0s\n",
      "     0     0  649.60000    0  876  334.00000  649.60000  94.5%     -    1s\n",
      "H    0     0                     342.0000000  649.60000  89.9%     -    1s\n",
      "     0     0  493.94772    0  643  342.00000  493.94772  44.4%     -    2s\n",
      "     0     0  493.94772    0  643  342.00000  493.94772  44.4%     -    2s\n",
      "     0     2  493.92526    0  643  342.00000  493.92526  44.4%     -    8s\n",
      "    31    40  486.82758    6  630  342.00000  490.16770  43.3%  1190   10s\n",
      "H   67    79                     346.0000000  490.16770  41.7%  1001   11s\n",
      "H   73    79                     370.0000000  490.16770  32.5%   999   11s\n",
      "H  104   116                     374.0000000  490.16770  31.1%   892   12s\n",
      "H  145   165                     380.0000000  490.16770  29.0%   829   13s\n",
      "H  146   165                     382.0000000  490.16770  28.3%   831   13s\n",
      "H  155   165                     384.0000000  490.16770  27.6%   802   13s\n",
      "H  199   198                     396.0000000  490.16770  23.8%   760   14s\n",
      "   235   236  478.26204   21  491  396.00000  490.16770  23.8%   750   15s\n",
      "H  238   236                     398.0000000  490.16770  23.2%   751   15s\n",
      "   576   516  449.55920   49  267  398.00000  490.16770  23.2%   622   21s\n",
      "H  580   511                     402.0000000  490.16770  21.9%   624   21s\n",
      "  1099   905  419.60184   17  503  402.00000  485.57911  20.8%   515   25s\n",
      "  1444  1091  403.30196   58  643  402.00000  478.49099  19.0%   485   33s\n",
      "  1446  1092  426.15281   45 3818  402.00000  478.49099  19.0%   484   39s\n",
      "  1447  1093  419.56184   35  649  402.00000  478.49099  19.0%   484   43s\n",
      "  1450  1095  420.03924   60  721  402.00000  478.49099  19.0%   483   46s\n",
      "  1452  1096  425.59971   44  694  402.00000  478.49099  19.0%   482   51s\n",
      "  1459  1101  437.48749   25  692  402.00000  478.49099  19.0%   480   56s\n",
      "  1460  1105  478.49099   12  685  402.00000  478.49099  19.0%   501   60s\n",
      "\n",
      "Cutting planes:\n",
      "  Gomory: 7\n",
      "  Lift-and-project: 9\n",
      "  RLT: 128\n",
      "\n",
      "Explored 1462 nodes (757758 simplex iterations) in 60.10 seconds (159.72 work units)\n",
      "Thread count was 8 (of 8 available processors)\n",
      "\n",
      "Solution count 10: 402 398 396 ... 342\n",
      "\n",
      "Time limit reached\n",
      "Best objective 4.020000000000e+02, best bound 4.780000000000e+02, gap 18.9055%\n",
      "density of weight tensor: 0.7000054253472222\n",
      "density of dense tensor: 0.8489583333333334\n",
      "density of sparse tensor: 0.6976410934744268\n",
      "selected filters: [0, 2, 7, 11, 24, 31, 54, 62]\n",
      "selected channels: [15, 18, 21, 30, 45, 48, 49, 50]\n"
     ]
    }
   ],
   "metadata": {}
  },
  {
   "cell_type": "code",
   "execution_count": null,
   "source": [],
   "outputs": [],
   "metadata": {}
  }
 ],
 "metadata": {
  "orig_nbformat": 4,
  "language_info": {
   "name": "python",
   "version": "3.9.5",
   "mimetype": "text/x-python",
   "codemirror_mode": {
    "name": "ipython",
    "version": 3
   },
   "pygments_lexer": "ipython3",
   "nbconvert_exporter": "python",
   "file_extension": ".py"
  },
  "kernelspec": {
   "name": "python3",
   "display_name": "Python 3.9.5 64-bit ('.venv': poetry)"
  },
  "interpreter": {
   "hash": "b96411f1fa39847304dd003ed0b7c11acafefc12e881d5601e17449b30f22463"
  }
 },
 "nbformat": 4,
 "nbformat_minor": 2
}